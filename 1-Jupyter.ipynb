{
 "cells": [
  {
   "cell_type": "markdown",
   "metadata": {},
   "source": [
    "# O que é um Jupyter Notebook?\n",
    "\n",
    "Neste caso, o notebook é um formato de documento que contém tanto códigos quanto elementos de texto, figuras, links, vídeos, equações, etc. Como podemos misturar texto e código em um mesmo lugar, esses documentos são lugares ideais para gerar e descrever análises onde tanto a formulação da ideia, a visualização do resultado e a descrição do resultado pode ser feita num mesmo lugar."
   ]
  },
  {
   "cell_type": "markdown",
   "metadata": {},
   "source": [
    "## Células\n",
    "Isso é uma célula de texto. Células de texto aceitam marcação conhecida como Markdown.\n",
    "\n",
    "Em uma célula de código nós podemos usar o Python como usamos em um script qualquer:"
   ]
  },
  {
   "cell_type": "code",
   "execution_count": null,
   "metadata": {},
   "outputs": [],
   "source": [
    "# isso é uma célula de código\n",
    "\n",
    "import matplotlib.pyplot as plt\n",
    "%matplotlib inline "
   ]
  },
  {
   "cell_type": "markdown",
   "metadata": {},
   "source": [
    "Cada célula é um ambiente isolado que pode ser rodado separadamente. Você pode rodar cada célula individualmente e na sequência que desejar, mas as variáveis que ela usa precisam estar referenciadas antes do seu uso."
   ]
  },
  {
   "cell_type": "code",
   "execution_count": null,
   "metadata": {},
   "outputs": [],
   "source": [
    "for i in range(0, 10):\n",
    "    print(i)"
   ]
  },
  {
   "cell_type": "markdown",
   "metadata": {},
   "source": [
    "## Fórmulas matemáticas\n",
    "\n",
    "Também é possível usar fórmulas junto com o texto. Isso é muito útil quando se tem uma explicação matemática necessária para entender o código. A escrita é feita da mesma forma que no LaTeX:\n",
    "\n",
    "$$c = \\sqrt{a^2 + b^2}$$"
   ]
  },
  {
   "cell_type": "markdown",
   "metadata": {},
   "source": [
    "## Visualização\n",
    "\n",
    "Na área de imports colocamos um `%matplotlib inline`, certo? Essa é uma das \"mágicas\" disponíveis no Jupyter que permite que os gráficos do `matplotlib` sejam apresentados dentro do próprio notebook, como podemos ver abaixo:"
   ]
  },
  {
   "cell_type": "code",
   "execution_count": null,
   "metadata": {
    "scrolled": true
   },
   "outputs": [],
   "source": [
    "plt.plot(range(0,100))"
   ]
  },
  {
   "cell_type": "markdown",
   "metadata": {},
   "source": [
    "## Vídeos\n",
    "\n",
    "Também podemos inserir vídeos do youtube como parte da sequência lógica da explicação:"
   ]
  },
  {
   "cell_type": "code",
   "execution_count": null,
   "metadata": {},
   "outputs": [],
   "source": [
    "from IPython.display import YouTubeVideo\n",
    "\n",
    "\n",
    "YouTubeVideo('XVWit2ZMLcc')"
   ]
  },
  {
   "cell_type": "code",
   "execution_count": null,
   "metadata": {},
   "outputs": [],
   "source": []
  }
 ],
 "metadata": {
  "kernelspec": {
   "display_name": "Python 3 (ipykernel)",
   "language": "python",
   "name": "python3"
  },
  "language_info": {
   "codemirror_mode": {
    "name": "ipython",
    "version": 3
   },
   "file_extension": ".py",
   "mimetype": "text/x-python",
   "name": "python",
   "nbconvert_exporter": "python",
   "pygments_lexer": "ipython3",
   "version": "3.8.2"
  }
 },
 "nbformat": 4,
 "nbformat_minor": 2
}
